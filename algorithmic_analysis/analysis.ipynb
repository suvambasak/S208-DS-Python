{
 "cells": [
  {
   "cell_type": "markdown",
   "metadata": {},
   "source": [
    "## GCD of m and n"
   ]
  },
  {
   "cell_type": "markdown",
   "metadata": {},
   "source": [
    "#### Approach `1`"
   ]
  },
  {
   "cell_type": "code",
   "execution_count": 9,
   "metadata": {},
   "outputs": [],
   "source": [
    "def gcd(m: int, n: int):\n",
    "    factors_m = []\n",
    "    factors_n = []\n",
    "\n",
    "    for i in range(1, m+1):\n",
    "        if m % i == 0:\n",
    "            factors_m.append(i)\n",
    "    for i in range(1, n+1):\n",
    "        if n % i == 0:\n",
    "            factors_n.append(i)\n",
    "\n",
    "    common_factors = []\n",
    "    for f in factors_m:\n",
    "        if f in factors_n:\n",
    "            common_factors.append(f)\n",
    "\n",
    "    return common_factors[-1]"
   ]
  },
  {
   "cell_type": "markdown",
   "metadata": {},
   "source": [
    "#### Approach `2`"
   ]
  },
  {
   "cell_type": "code",
   "execution_count": 3,
   "metadata": {},
   "outputs": [],
   "source": [
    "def gcd(m: int, n: int):\n",
    "    common_factors = []\n",
    "    for f in range(1, min(m, n)+1):\n",
    "        if m % f == 0 and n % f == 0:\n",
    "            common_factors.append(f)\n",
    "\n",
    "    return common_factors[-1]"
   ]
  },
  {
   "cell_type": "markdown",
   "metadata": {},
   "source": [
    "#### Approach `3`"
   ]
  },
  {
   "cell_type": "code",
   "execution_count": 4,
   "metadata": {},
   "outputs": [],
   "source": [
    "def gcd(m: int, n: int):\n",
    "    common_factors = 1\n",
    "    for f in range(2, min(m, n)+1):\n",
    "        if m % f == 0 and n % f == 0:\n",
    "            common_factors = f\n",
    "\n",
    "    return common_factors"
   ]
  },
  {
   "cell_type": "markdown",
   "metadata": {},
   "source": [
    "Approach `4`"
   ]
  },
  {
   "cell_type": "code",
   "execution_count": 5,
   "metadata": {},
   "outputs": [],
   "source": [
    "def gcd(m: int, n: int):\n",
    "    common_factors = min(m, n)\n",
    "    while common_factors > 0:\n",
    "        if m % common_factors == 0 and n % common_factors == 0:\n",
    "            return common_factors\n",
    "        common_factors -= 1\n"
   ]
  },
  {
   "cell_type": "markdown",
   "metadata": {},
   "source": [
    "Approach `5`: \"Euclid's Algorithm\""
   ]
  },
  {
   "cell_type": "code",
   "execution_count": 6,
   "metadata": {},
   "outputs": [],
   "source": [
    "def gcd(m: int, n: int):\n",
    "    if m < n:\n",
    "        m, n = n, m\n",
    "    if m % n == 0:\n",
    "        return n\n",
    "    return gcd(n, m%n)"
   ]
  },
  {
   "cell_type": "code",
   "execution_count": 11,
   "metadata": {},
   "outputs": [
    {
     "data": {
      "text/plain": [
       "1"
      ]
     },
     "execution_count": 11,
     "metadata": {},
     "output_type": "execute_result"
    }
   ],
   "source": [
    "gcd(146354574, 464657663)"
   ]
  }
 ],
 "metadata": {
  "kernelspec": {
   "display_name": "base",
   "language": "python",
   "name": "python3"
  },
  "language_info": {
   "codemirror_mode": {
    "name": "ipython",
    "version": 3
   },
   "file_extension": ".py",
   "mimetype": "text/x-python",
   "name": "python",
   "nbconvert_exporter": "python",
   "pygments_lexer": "ipython3",
   "version": "3.11.4"
  }
 },
 "nbformat": 4,
 "nbformat_minor": 2
}

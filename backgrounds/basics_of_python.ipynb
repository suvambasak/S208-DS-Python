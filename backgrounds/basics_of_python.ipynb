{
 "cells": [
  {
   "cell_type": "markdown",
   "metadata": {},
   "source": [
    "# Python programming"
   ]
  },
  {
   "cell_type": "markdown",
   "metadata": {},
   "source": [
    "## Functions"
   ]
  },
  {
   "cell_type": "code",
   "execution_count": 1,
   "metadata": {},
   "outputs": [],
   "source": [
    "def fun():\n",
    "    print ('Hello from fun')"
   ]
  },
  {
   "cell_type": "code",
   "execution_count": 2,
   "metadata": {},
   "outputs": [
    {
     "name": "stdout",
     "output_type": "stream",
     "text": [
      "Hello from fun\n"
     ]
    }
   ],
   "source": [
    "fun()"
   ]
  },
  {
   "cell_type": "markdown",
   "metadata": {},
   "source": [
    "### Function with default Parameter"
   ]
  },
  {
   "cell_type": "code",
   "execution_count": 3,
   "metadata": {},
   "outputs": [],
   "source": [
    "def fun_default(name: str = \"IIT Kanpur\"):\n",
    "    print (f'Hello from {name}')"
   ]
  },
  {
   "cell_type": "code",
   "execution_count": 4,
   "metadata": {},
   "outputs": [
    {
     "name": "stdout",
     "output_type": "stream",
     "text": [
      "Hello from IIT Kanpur\n"
     ]
    }
   ],
   "source": [
    "fun_default()"
   ]
  },
  {
   "cell_type": "markdown",
   "metadata": {},
   "source": [
    "### Arbitrary Argument"
   ]
  },
  {
   "cell_type": "code",
   "execution_count": 5,
   "metadata": {},
   "outputs": [],
   "source": [
    "def fun_with_args(*args):\n",
    "    print (args)"
   ]
  },
  {
   "cell_type": "code",
   "execution_count": 6,
   "metadata": {},
   "outputs": [
    {
     "name": "stdout",
     "output_type": "stream",
     "text": [
      "(1, 2, 3, 4)\n"
     ]
    }
   ],
   "source": [
    "fun_with_args(1,2,3,4)"
   ]
  },
  {
   "cell_type": "markdown",
   "metadata": {},
   "source": [
    "### Arbitrary Keyword Arguments"
   ]
  },
  {
   "cell_type": "code",
   "execution_count": 7,
   "metadata": {},
   "outputs": [],
   "source": [
    "def fun_with_key_args(**args):\n",
    "    print (args)"
   ]
  },
  {
   "cell_type": "code",
   "execution_count": 8,
   "metadata": {},
   "outputs": [
    {
     "name": "stdout",
     "output_type": "stream",
     "text": [
      "{'teacher': 1, 'student': 10}\n"
     ]
    }
   ],
   "source": [
    "fun_with_key_args(teacher=1, student=10)"
   ]
  },
  {
   "cell_type": "markdown",
   "metadata": {},
   "source": [
    "### Recursion"
   ]
  },
  {
   "cell_type": "code",
   "execution_count": 4,
   "metadata": {},
   "outputs": [],
   "source": [
    "def fact(n: int) -> int:\n",
    "    if n == 0 or n == 1:\n",
    "        return 1\n",
    "    else:\n",
    "        print (f'{n} * fast({n-1})')\n",
    "        return n * fact(n-1)"
   ]
  },
  {
   "cell_type": "code",
   "execution_count": 6,
   "metadata": {},
   "outputs": [
    {
     "name": "stdout",
     "output_type": "stream",
     "text": [
      "10 * fast(9)\n",
      "9 * fast(8)\n",
      "8 * fast(7)\n",
      "7 * fast(6)\n",
      "6 * fast(5)\n",
      "5 * fast(4)\n",
      "4 * fast(3)\n",
      "3 * fast(2)\n",
      "2 * fast(1)\n"
     ]
    },
    {
     "data": {
      "text/plain": [
       "3628800"
      ]
     },
     "execution_count": 6,
     "metadata": {},
     "output_type": "execute_result"
    }
   ],
   "source": [
    "fact(10)"
   ]
  },
  {
   "cell_type": "markdown",
   "metadata": {},
   "source": [
    "### Nested functions"
   ]
  },
  {
   "cell_type": "markdown",
   "metadata": {},
   "source": [
    "$f(n) = 1! + 2! + 3! + 4! + .... + n!$"
   ]
  },
  {
   "cell_type": "code",
   "execution_count": 26,
   "metadata": {},
   "outputs": [],
   "source": [
    "def f_n(n: int) -> int:\n",
    "    sum = 0\n",
    "\n",
    "    def factorial(n: int) -> int:\n",
    "        f = 1\n",
    "        for j in range(2,n+1):\n",
    "            f *= j\n",
    "        return f\n",
    "\n",
    "    for i in range(1, n+1):\n",
    "        sum += factorial(i)\n",
    "\n",
    "    return sum"
   ]
  },
  {
   "cell_type": "code",
   "execution_count": 27,
   "metadata": {},
   "outputs": [
    {
     "data": {
      "text/plain": [
       "4037913"
      ]
     },
     "execution_count": 27,
     "metadata": {},
     "output_type": "execute_result"
    }
   ],
   "source": [
    "f_n(10)"
   ]
  },
  {
   "cell_type": "markdown",
   "metadata": {},
   "source": [
    "### Passing functions as arguments"
   ]
  },
  {
   "cell_type": "code",
   "execution_count": 31,
   "metadata": {},
   "outputs": [],
   "source": [
    "def loud(text: str) -> None:\n",
    "    print (text.upper())\n",
    "\n",
    "def soft(text: str) -> None:\n",
    "    print (text.lower())\n",
    "\n",
    "def announce(msg: str, voice_type: any) -> None:\n",
    "    voice_type(msg)"
   ]
  },
  {
   "cell_type": "code",
   "execution_count": 33,
   "metadata": {},
   "outputs": [
    {
     "name": "stdout",
     "output_type": "stream",
     "text": [
      "where are you?\n"
     ]
    }
   ],
   "source": [
    "announce(\n",
    "    \"Where are you?\",\n",
    "    soft\n",
    ")"
   ]
  },
  {
   "cell_type": "markdown",
   "metadata": {},
   "source": [
    "## Higher order functions on lists"
   ]
  },
  {
   "cell_type": "markdown",
   "metadata": {},
   "source": [
    "### `map`"
   ]
  },
  {
   "cell_type": "code",
   "execution_count": 11,
   "metadata": {},
   "outputs": [],
   "source": [
    "def add_host(username: str) -> str:\n",
    "    return f'{username}@iitk.ac.in'"
   ]
  },
  {
   "cell_type": "code",
   "execution_count": 12,
   "metadata": {},
   "outputs": [
    {
     "data": {
      "text/plain": [
       "'suvambasak22@iitk.ac.in'"
      ]
     },
     "execution_count": 12,
     "metadata": {},
     "output_type": "execute_result"
    }
   ],
   "source": [
    "add_host('suvambasak22')\n",
    "\n",
    "\n",
    "# email_map = map(add_host, ('suvambasak', 'suraj', 'tufan'))\n",
    "# list(email_map)"
   ]
  },
  {
   "cell_type": "markdown",
   "metadata": {},
   "source": [
    "### List `comprehension`"
   ]
  },
  {
   "cell_type": "code",
   "execution_count": 13,
   "metadata": {},
   "outputs": [
    {
     "data": {
      "text/plain": [
       "[1, 4, 9, 16, 25, 36, 49, 64, 81]"
      ]
     },
     "execution_count": 13,
     "metadata": {},
     "output_type": "execute_result"
    }
   ],
   "source": [
    "[i*i for i in range(10) if i > 0]"
   ]
  },
  {
   "cell_type": "markdown",
   "metadata": {},
   "source": [
    "## Exception handling"
   ]
  },
  {
   "cell_type": "code",
   "execution_count": 14,
   "metadata": {},
   "outputs": [
    {
     "name": "stdout",
     "output_type": "stream",
     "text": [
      "[Errno 2] No such file or directory: 'file1.txt'\n",
      "Print executed\n"
     ]
    }
   ],
   "source": [
    "file_name = 'files/file1.txt'\n",
    "\n",
    "try:\n",
    "    with open(file_name) as file:\n",
    "        print (file.read())\n",
    "except Exception as e:\n",
    "    print (e)\n",
    "\n",
    "print ('Print executed')"
   ]
  },
  {
   "cell_type": "markdown",
   "metadata": {},
   "source": [
    "## Handling files"
   ]
  },
  {
   "cell_type": "markdown",
   "metadata": {},
   "source": [
    "### Writing into a file"
   ]
  },
  {
   "cell_type": "code",
   "execution_count": 14,
   "metadata": {},
   "outputs": [],
   "source": [
    "text_file = open('files/myfile.txt', 'w')\n",
    "text_file.write('Here is some text content!')\n",
    "text_file.close()"
   ]
  },
  {
   "cell_type": "markdown",
   "metadata": {},
   "source": [
    "### Reading the file"
   ]
  },
  {
   "cell_type": "code",
   "execution_count": 13,
   "metadata": {},
   "outputs": [
    {
     "data": {
      "text/plain": [
       "'Here is some text content!\\n\\nHello'"
      ]
     },
     "execution_count": 13,
     "metadata": {},
     "output_type": "execute_result"
    }
   ],
   "source": [
    "text_file = open('files/myfile.txt', 'r')\n",
    "content = text_file.read()\n",
    "text_file.close()\n",
    "\n",
    "content"
   ]
  },
  {
   "cell_type": "markdown",
   "metadata": {},
   "source": [
    "### Add new text"
   ]
  },
  {
   "cell_type": "code",
   "execution_count": 22,
   "metadata": {},
   "outputs": [],
   "source": [
    "text_file = open('files/myfile.txt', 'a')\n",
    "text_file.write('Here is some text content!')\n",
    "text_file.write('\\n')\n",
    "text_file.close()"
   ]
  },
  {
   "cell_type": "markdown",
   "metadata": {},
   "source": [
    "### Using `Context Manager`"
   ]
  },
  {
   "cell_type": "code",
   "execution_count": 25,
   "metadata": {},
   "outputs": [],
   "source": [
    "with open('files/myfile.txt', 'w') as text_file:\n",
    "    text_file.write('hello')"
   ]
  },
  {
   "cell_type": "code",
   "execution_count": 26,
   "metadata": {},
   "outputs": [],
   "source": [
    "with open('files/myfile.txt', 'a') as text_file:\n",
    "    text_file.write('hello')"
   ]
  },
  {
   "cell_type": "code",
   "execution_count": 27,
   "metadata": {},
   "outputs": [
    {
     "data": {
      "text/plain": [
       "'hellohello'"
      ]
     },
     "execution_count": 27,
     "metadata": {},
     "output_type": "execute_result"
    }
   ],
   "source": [
    "with open('files/myfile.txt', 'r') as text_file:\n",
    "    content = text_file.read()\n",
    "\n",
    "content"
   ]
  },
  {
   "cell_type": "markdown",
   "metadata": {},
   "source": [
    "## String processing"
   ]
  },
  {
   "cell_type": "code",
   "execution_count": 50,
   "metadata": {},
   "outputs": [
    {
     "name": "stdout",
     "output_type": "stream",
     "text": [
      "Name: OConnell and Email: 650.507.9833\n",
      "Name: Grant and Email: 650.507.9844\n",
      "Name: Whalen and Email: 515.123.4444\n",
      "Name: Hartstein and Email: 515.123.5555\n",
      "Name: Fay and Email: 603.123.6666\n",
      "Name: Mavris and Email: 515.123.7777\n",
      "Name: Baer and Email: 515.123.8888\n",
      "Name: Higgins and Email: 515.123.8080\n",
      "Name: Gietz and Email: 515.123.8181\n",
      "Name: King and Email: 515.123.4567\n",
      "Name: Kochhar and Email: 515.123.4568\n",
      "Name: De Haan and Email: 515.123.4569\n",
      "Name: Hunold and Email: 590.423.4567\n",
      "Name: Ernst and Email: 590.423.4568\n",
      "Name: Austin and Email: 590.423.4569\n",
      "Name: Pataballa and Email: 590.423.4560\n",
      "Name: Lorentz and Email: 590.423.5567\n",
      "Name: Greenberg and Email: 515.124.4569\n",
      "Name: Faviet and Email: 515.124.4169\n",
      "Name: Chen and Email: 515.124.4269\n",
      "Name: Sciarra and Email: 515.124.4369\n",
      "Name: Urman and Email: 515.124.4469\n",
      "Name: Popp and Email: 515.124.4567\n",
      "Name: Raphaely and Email: 515.127.4561\n",
      "Name: Khoo and Email: 515.127.4562\n",
      "Name: Baida and Email: 515.127.4563\n",
      "Name: Tobias and Email: 515.127.4564\n",
      "Name: Himuro and Email: 515.127.4565\n",
      "Name: Colmenares and Email: 515.127.4566\n",
      "Name: Weiss and Email: 650.123.1234\n",
      "Name: Fripp and Email: 650.123.2234\n",
      "Name: Kaufling and Email: 650.123.3234\n",
      "Name: Vollman and Email: 650.123.4234\n",
      "Name: Mourgos and Email: 650.123.5234\n",
      "Name: Nayer and Email: 650.124.1214\n",
      "Name: Mikkilineni and Email: 650.124.1224\n",
      "Name: Landry and Email: 650.124.1334\n",
      "Name: Markle and Email: 650.124.1434\n",
      "Name: Bissot and Email: 650.124.5234\n",
      "Name: Atkinson and Email: 650.124.6234\n",
      "Name: Marlow and Email: 650.124.7234\n",
      "Name: Olson and Email: 650.124.8234\n",
      "Name: Mallin and Email: 650.127.1934\n",
      "Name: Rogers and Email: 650.127.1834\n",
      "Name: Gee and Email: 650.127.1734\n",
      "Name: Philtanker and Email: 650.127.1634\n",
      "Name: Ladwig and Email: 650.121.1234\n",
      "Name: Stiles and Email: 650.121.2034\n",
      "Name: Seo and Email: 650.121.2019\n",
      "Name: Patel and Email: 650.121.1834\n"
     ]
    }
   ],
   "source": [
    "with open('files/employees.csv', 'r') as text_file:\n",
    "    content = text_file.read()\n",
    "\n",
    "lines = content.split('\\n')[1:]\n",
    "\n",
    "for line in lines:\n",
    "    line_list = line.split(',')\n",
    "    print (f'Name: {line_list[2]} and Email: {line_list[4]}')"
   ]
  }
 ],
 "metadata": {
  "kernelspec": {
   "display_name": "Python 3",
   "language": "python",
   "name": "python3"
  },
  "language_info": {
   "codemirror_mode": {
    "name": "ipython",
    "version": 3
   },
   "file_extension": ".py",
   "mimetype": "text/x-python",
   "name": "python",
   "nbconvert_exporter": "python",
   "pygments_lexer": "ipython3",
   "version": "3.11.5"
  }
 },
 "nbformat": 4,
 "nbformat_minor": 2
}
